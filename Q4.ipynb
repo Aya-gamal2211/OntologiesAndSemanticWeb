{
 "cells": [
  {
   "cell_type": "markdown",
   "metadata": {},
   "source": [
    "Q4 Create program  that:\n",
    "\n",
    "a. Reads a name of a movie\n",
    "\n",
    "b. If it doesn’t exist displays an error message\n",
    "\n",
    "c. Else, display its year, country, genres and actors"
   ]
  },
  {
   "cell_type": "code",
   "execution_count": 1,
   "metadata": {},
   "outputs": [
    {
     "name": "stdout",
     "output_type": "stream",
     "text": [
      "Movie name entered by the user: About Time\n",
      "Movie details:\n",
      "Year: 2013-01-01T00:00:00\n",
      "Country: United Kingdom\n",
      "Genres: http://www.semanticweb.org/shaima/ontologies/2024/3/untitled-ontology-2#Comedy, http://www.semanticweb.org/shaima/ontologies/2024/3/untitled-ontology-2#Drama\n",
      "Actors: http://www.semanticweb.org/shaima/ontologies/2024/3/untitled-ontology-2#Bill_Nighy, http://www.semanticweb.org/shaima/ontologies/2024/3/untitled-ontology-2#Domhnall_Gleeson, http://www.semanticweb.org/shaima/ontologies/2024/3/untitled-ontology-2#Rachel_McAdams\n"
     ]
    }
   ],
   "source": [
    "from rdflib import Graph\n",
    "\n",
    "# Load the RDF graph\n",
    "g = Graph()\n",
    "g.parse(\"C:\\\\Users\\\\Shaima\\\\Desktop\\\\OntologiesAndSemanticWeb\\\\ontolgiesPhase1.ttl\", format=\"ttl\")  # Replace \"your_graph.ttl\" with the path to your RDF graph file\n",
    "\n",
    "# Read the name of the movie from the user\n",
    "movie_name = input('Enter the name of the movie: ')\n",
    "print(\"Movie name entered by the user:\", movie_name)\n",
    "\n",
    "# Query to retrieve movie data\n",
    "query_movie_data = f\"\"\"\n",
    "    PREFIX ns: <http://www.semanticweb.org/shaima/ontologies/2024/3/untitled-ontology-2#>\n",
    "    SELECT ?year ?country ?genres ?actors WHERE {{\n",
    "        ?movie rdf:type ns:Movie .\n",
    "        ?movie ns:Name ?name .\n",
    "        ?movie ns:Year ?year .\n",
    "        ?movie ns:Country ?country .\n",
    "        OPTIONAL {{ ?movie ns:hasGenre ?genres . }}\n",
    "        OPTIONAL {{ ?movie ns:hasActor ?actors . }}\n",
    "        FILTER(REGEX(?name, \"{movie_name}\", \"i\"))  # Case-insensitive comparison\n",
    "    }}\n",
    "\"\"\" \n",
    "\n",
    "# Execute the query\n",
    "results_movie_data = g.query(query_movie_data)\n",
    "\n",
    "# Print the movie data\n",
    "if len(results_movie_data) == 0:\n",
    "    print(\"Error: The movie is not found.\")\n",
    "else:\n",
    "    print(\"Movie details:\")\n",
    "    year_printed = False\n",
    "    country_printed = False\n",
    "    genres_set = set()\n",
    "    actors_set = set()\n",
    "    for row in results_movie_data:\n",
    "        movie_year = row[0]\n",
    "        movie_country = row[1]\n",
    "        movie_genre = row[2] if len(row) > 2 else None\n",
    "        movie_actor = row[3] if len(row) > 3 else None\n",
    "        \n",
    "        # Print Year and Country only once\n",
    "        if not year_printed:\n",
    "            print(f\"Year: {movie_year}\")\n",
    "            year_printed = True\n",
    "        if not country_printed:\n",
    "            print(f\"Country: {movie_country}\")\n",
    "            country_printed = True\n",
    "\n",
    "        # Add genres and actors to sets to avoid redundancy\n",
    "        if movie_genre:\n",
    "            genres_set.add(movie_genre)\n",
    "        if movie_actor:\n",
    "            actors_set.add(movie_actor)\n",
    "\n",
    "    # Print genres and actors\n",
    "    if genres_set:\n",
    "        print(\"Genres:\", \", \".join(genres_set))\n",
    "    else:\n",
    "        print(\"Genres: Unknown\")\n",
    "    \n",
    "    if actors_set:\n",
    "        print(\"Actors:\", \", \".join(actors_set))\n",
    "    else:\n",
    "        print(\"Actors: Unknown\")\n"
   ]
  }
 ],
 "metadata": {
  "kernelspec": {
   "display_name": "Python 3",
   "language": "python",
   "name": "python3"
  },
  "language_info": {
   "codemirror_mode": {
    "name": "ipython",
    "version": 3
   },
   "file_extension": ".py",
   "mimetype": "text/x-python",
   "name": "python",
   "nbconvert_exporter": "python",
   "pygments_lexer": "ipython3",
   "version": "3.11.9"
  }
 },
 "nbformat": 4,
 "nbformat_minor": 2
}
