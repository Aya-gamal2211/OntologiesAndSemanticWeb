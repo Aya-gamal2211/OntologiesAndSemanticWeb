{
 "cells": [
  {
   "cell_type": "markdown",
   "metadata": {},
   "source": [
    "### Check on the 1st Rule\n",
    "\n",
    "### Rule 1: Every movie must have at least one actor.\n"
   ]
  },
  {
   "cell_type": "code",
   "execution_count": 52,
   "metadata": {},
   "outputs": [
    {
     "name": "stdout",
     "output_type": "stream",
     "text": [
      "Movies with multiple actors:\n",
      "Movie: http://www.semanticweb.org/shaima/ontologies/2024/3/untitled-ontology-2#A_Separation - Number of Actors: 4\n",
      "Movie: http://www.semanticweb.org/shaima/ontologies/2024/3/untitled-ontology-2#About_Time - Number of Actors: 3\n",
      "Movie: http://www.semanticweb.org/shaima/ontologies/2024/3/untitled-ontology-2#Amélie - Number of Actors: 3\n",
      "Movie: http://www.semanticweb.org/shaima/ontologies/2024/3/untitled-ontology-2#Central_Intelligence - Number of Actors: 4\n",
      "Movie: http://www.semanticweb.org/shaima/ontologies/2024/3/untitled-ontology-2#Cinema_Paradiso - Number of Actors: 3\n",
      "Movie: http://www.semanticweb.org/shaima/ontologies/2024/3/untitled-ontology-2#Forrest_Gump - Number of Actors: 3\n",
      "Movie: http://www.semanticweb.org/shaima/ontologies/2024/3/untitled-ontology-2#Kill_Bill_Volume_1 - Number of Actors: 4\n",
      "Movie: http://www.semanticweb.org/shaima/ontologies/2024/3/untitled-ontology-2#Pulp_Fiction - Number of Actors: 2\n",
      "Movie: http://www.semanticweb.org/shaima/ontologies/2024/3/untitled-ontology-2#Shutter_Island - Number of Actors: 3\n",
      "Movie: http://www.semanticweb.org/shaima/ontologies/2024/3/untitled-ontology-2#Spirited_Away - Number of Actors: 3\n"
     ]
    }
   ],
   "source": [
    "from rdflib import Graph, Namespace\n",
    "from owlrl import DeductiveClosure\n",
    "import owlrl\n",
    "# Load your RDF data from the TTL file\n",
    "g = Graph()\n",
    "g.parse(\"C:\\\\Users\\\\Shaima\\\\Desktop\\\\OntologiesAndSemanticWeb\\\\owl_new.ttl\", format=\"ttl\")\n",
    "DeductiveClosure(owlrl.OWLRL_Semantics).expand(g)\n",
    "\n",
    "\n",
    "# Define namespaces\n",
    "onto = Namespace(\"http://www.semanticweb.org/shaima/ontologies/2024/3/untitled-ontology-2#\")\n",
    "\n",
    "def movies_with_multiple_actors():\n",
    "    # Define the SPARQL query\n",
    "    query = \"\"\"\n",
    "    PREFIX rdf: <http://www.w3.org/1999/02/22-rdf-syntax-ns#>\n",
    "    PREFIX ns: <http://www.semanticweb.org/shaima/ontologies/2024/3/untitled-ontology-2#>\n",
    "    SELECT ?movie (COUNT(DISTINCT ?Actor) as ?ActorCount) WHERE {\n",
    "        ?movie rdf:type ns:Movie .\n",
    "        ?movie ns:hasActor ?Actor .\n",
    "    }\n",
    "    GROUP BY ?movie\n",
    "    \"\"\"\n",
    "    # Execute the query\n",
    "    print(\"Movies with multiple actors:\")\n",
    "    for row in g.query(query):\n",
    "        movie_uri = row.movie.toPython()\n",
    "        actor_count = row.ActorCount.toPython()\n",
    "        print(f\"Movie: {movie_uri} - Number of Actors: {actor_count}\")\n",
    "\n",
    "movies_with_multiple_actors()\n",
    "\n"
   ]
  },
  {
   "cell_type": "markdown",
   "metadata": {},
   "source": [
    "### Rule 2: A movie may consist of more than one genre.\n"
   ]
  },
  {
   "cell_type": "code",
   "execution_count": 53,
   "metadata": {},
   "outputs": [
    {
     "name": "stdout",
     "output_type": "stream",
     "text": [
      "Movies with multiple genres:\n",
      "Movie: http://www.semanticweb.org/shaima/ontologies/2024/3/untitled-ontology-2#A_Separation - Number of genres: 1\n",
      "Movie: http://www.semanticweb.org/shaima/ontologies/2024/3/untitled-ontology-2#Amélie - Number of genres: 2\n",
      "Movie: http://www.semanticweb.org/shaima/ontologies/2024/3/untitled-ontology-2#Central_Intelligence - Number of genres: 3\n",
      "Movie: http://www.semanticweb.org/shaima/ontologies/2024/3/untitled-ontology-2#Cinema_Paradiso - Number of genres: 1\n",
      "Movie: http://www.semanticweb.org/shaima/ontologies/2024/3/untitled-ontology-2#Forrest_Gump - Number of genres: 2\n",
      "Movie: http://www.semanticweb.org/shaima/ontologies/2024/3/untitled-ontology-2#Kill_Bill_Volume_1 - Number of genres: 1\n",
      "Movie: http://www.semanticweb.org/shaima/ontologies/2024/3/untitled-ontology-2#Pulp_Fiction - Number of genres: 2\n",
      "Movie: http://www.semanticweb.org/shaima/ontologies/2024/3/untitled-ontology-2#Shutter_Island - Number of genres: 2\n",
      "Movie: http://www.semanticweb.org/shaima/ontologies/2024/3/untitled-ontology-2#Spirited_Away - Number of genres: 3\n"
     ]
    }
   ],
   "source": [
    "from rdflib import Graph, Namespace\n",
    "from owlrl import DeductiveClosure\n",
    "import owlrl\n",
    "# Load your RDF data from the TTL file\n",
    "g = Graph()\n",
    "g.parse(\"C:\\\\Users\\\\Shaima\\\\Desktop\\\\OntologiesAndSemanticWeb\\\\owl_new.ttl\", format=\"ttl\")\n",
    "DeductiveClosure(owlrl.OWLRL_Semantics).expand(g)\n",
    "\n",
    "# Define namespaces\n",
    "onto = Namespace(\"http://www.semanticweb.org/shaima/ontologies/2024/3/untitled-ontology-2#\")\n",
    "\n",
    "def movies_with_multiple_genres():\n",
    "    # Define the SPARQL query\n",
    "    query = \"\"\"\n",
    "    PREFIX rdf: <http://www.w3.org/1999/02/22-rdf-syntax-ns#>\n",
    "    PREFIX ns: <http://www.semanticweb.org/shaima/ontologies/2024/3/untitled-ontology-2#>\n",
    "    SELECT ?movie (COUNT(DISTINCT ?genre) as ?genreCount) WHERE {\n",
    "        ?movie rdf:type ns:Movie .\n",
    "        ?movie ns:hasGenre ?genre .\n",
    "    }\n",
    "    GROUP BY ?movie\n",
    "    \"\"\"\n",
    "    # Execute the query\n",
    "    print(\"Movies with multiple genres:\")\n",
    "    for row in g.query(query):\n",
    "        movie_uri = row.movie.toPython()\n",
    "        genre_count = row.genreCount.toPython()\n",
    "        print(f\"Movie: {movie_uri} - Number of genres: {genre_count}\")\n",
    "\n",
    "movies_with_multiple_genres()\n"
   ]
  },
  {
   "cell_type": "code",
   "execution_count": 54,
   "metadata": {},
   "outputs": [
    {
     "name": "stdout",
     "output_type": "stream",
     "text": [
      "Movies with 2 writers:\n",
      "Movie: http://www.semanticweb.org/shaima/ontologies/2024/3/untitled-ontology-2#A_Separation - Number of writers: 1\n",
      "Movie: http://www.semanticweb.org/shaima/ontologies/2024/3/untitled-ontology-2#About_Time - Number of writers: 1\n",
      "Movie: http://www.semanticweb.org/shaima/ontologies/2024/3/untitled-ontology-2#Amélie - Number of writers: 1\n",
      "Movie: http://www.semanticweb.org/shaima/ontologies/2024/3/untitled-ontology-2#Central_Intelligence - Number of writers: 2\n",
      "Movie: http://www.semanticweb.org/shaima/ontologies/2024/3/untitled-ontology-2#Cinema_Paradiso - Number of writers: 1\n",
      "Movie: http://www.semanticweb.org/shaima/ontologies/2024/3/untitled-ontology-2#Forrest_Gump - Number of writers: 2\n",
      "Movie: http://www.semanticweb.org/shaima/ontologies/2024/3/untitled-ontology-2#Kill_Bill_Volume_1 - Number of writers: 1\n",
      "Movie: http://www.semanticweb.org/shaima/ontologies/2024/3/untitled-ontology-2#Pulp_Fiction - Number of writers: 1\n",
      "Movie: http://www.semanticweb.org/shaima/ontologies/2024/3/untitled-ontology-2#Shutter_Island - Number of writers: 1\n",
      "Movie: http://www.semanticweb.org/shaima/ontologies/2024/3/untitled-ontology-2#Spirited_Away - Number of writers: 1\n"
     ]
    }
   ],
   "source": [
    "from rdflib import Graph, Namespace\n",
    "from owlrl import DeductiveClosure\n",
    "import owlrl\n",
    "# Load your RDF data from the TTL file\n",
    "g = Graph()\n",
    "g.parse(\"C:\\\\Users\\\\Shaima\\\\Desktop\\\\OntologiesAndSemanticWeb\\\\owl_new.ttl\", format=\"ttl\")\n",
    "DeductiveClosure(owlrl.OWLRL_Semantics).expand(g)\n",
    "\n",
    "# Define namespaces\n",
    "onto = Namespace(\"http://www.semanticweb.org/shaima/ontologies/2024/3/untitled-ontology-2#\")\n",
    "\n",
    "def movies_with_multiple_genres():\n",
    "    # Define the SPARQL query\n",
    "    query = \"\"\"\n",
    "    PREFIX rdf: <http://www.w3.org/1999/02/22-rdf-syntax-ns#>\n",
    "    PREFIX ns: <http://www.semanticweb.org/shaima/ontologies/2024/3/untitled-ontology-2#>\n",
    "    SELECT ?movie (COUNT(DISTINCT ?writer) as ?WriterCount) WHERE {\n",
    "        ?movie rdf:type ns:Movie .\n",
    "        ?movie ns:hasWriter ?writer .\n",
    "    }\n",
    "    GROUP BY ?movie\n",
    "    \"\"\"\n",
    "    # Execute the query\n",
    "    print(\"Movies with 2 writers:\")\n",
    "    for row in g.query(query):\n",
    "        movie_uri = row.movie.toPython()\n",
    "        writer_count = row.WriterCount.toPython()\n",
    "        print(f\"Movie: {movie_uri} - Number of writers: {writer_count}\")\n",
    "\n",
    "movies_with_multiple_genres()\n"
   ]
  },
  {
   "cell_type": "markdown",
   "metadata": {},
   "source": [
    "### Rule 3: The gender property must have values of subproperty female and male\n"
   ]
  },
  {
   "cell_type": "code",
   "execution_count": 60,
   "metadata": {},
   "outputs": [
    {
     "name": "stdout",
     "output_type": "stream",
     "text": [
      "Person genders:\n",
      "Person: http://www.semanticweb.org/shaima/ontologies/2024/3/untitled-ontology-2#Robert_Zemeckis - Gender: Male\n",
      "Person: http://www.semanticweb.org/shaima/ontologies/2024/3/untitled-ontology-2#Peyman_Moaadi - Gender: Male\n",
      "Person: http://www.semanticweb.org/shaima/ontologies/2024/3/untitled-ontology-2#Shahab_Hosseini - Gender: Male\n",
      "Person: http://www.semanticweb.org/shaima/ontologies/2024/3/untitled-ontology-2#Richard_Curtis - Gender: Male\n",
      "Person: http://www.semanticweb.org/shaima/ontologies/2024/3/untitled-ontology-2#Hayao_Miyazaki - Gender: Male\n",
      "Person: http://www.semanticweb.org/shaima/ontologies/2024/3/untitled-ontology-2#Ben_Kingsley - Gender: Male\n",
      "Person: http://www.semanticweb.org/shaima/ontologies/2024/3/untitled-ontology-2#Domhnall_Gleeson - Gender: Male\n",
      "Person: http://www.semanticweb.org/shaima/ontologies/2024/3/untitled-ontology-2#Ike_Barinholtz - Gender: Male\n",
      "Person: http://www.semanticweb.org/shaima/ontologies/2024/3/untitled-ontology-2#Robin_Wright - Gender: Female\n",
      "Person: http://www.semanticweb.org/shaima/ontologies/2024/3/untitled-ontology-2#Leonardo_DiCaprio - Gender: Male\n",
      "Person: http://www.semanticweb.org/shaima/ontologies/2024/3/untitled-ontology-2#Antonella_Attili - Gender: Female\n",
      "Person: http://www.semanticweb.org/shaima/ontologies/2024/3/untitled-ontology-2#Rumi_Hiiragi - Gender: Female\n",
      "Person: http://www.semanticweb.org/shaima/ontologies/2024/3/untitled-ontology-2#Rawson_Marshall_Thurber - Gender: Male\n",
      "Person: http://www.semanticweb.org/shaima/ontologies/2024/3/untitled-ontology-2#Audrey_Tautou - Gender: Female\n",
      "Person: http://www.semanticweb.org/shaima/ontologies/2024/3/untitled-ontology-2#Miyu_Irino - Gender: Male\n",
      "Person: http://www.semanticweb.org/shaima/ontologies/2024/3/untitled-ontology-2#Eric_Roth - Gender: Male\n",
      "Person: http://www.semanticweb.org/shaima/ontologies/2024/3/untitled-ontology-2#Guillaume_Laurant - Gender: Male\n",
      "Person: http://www.semanticweb.org/shaima/ontologies/2024/3/untitled-ontology-2#Quentin_Tarantino - Gender: Male\n",
      "Person: http://www.semanticweb.org/shaima/ontologies/2024/3/untitled-ontology-2#Jean_Pierre_Jeunet - Gender: Male\n",
      "Person: http://www.semanticweb.org/shaima/ontologies/2024/3/untitled-ontology-2#Leila_Hatami - Gender: Female\n",
      "Person: http://www.semanticweb.org/shaima/ontologies/2024/3/untitled-ontology-2#Gary_Sinise - Gender: Male\n",
      "Person: http://www.semanticweb.org/shaima/ontologies/2024/3/untitled-ontology-2#Laeta_Kalogridis - Gender: Female\n",
      "Person: http://www.semanticweb.org/shaima/ontologies/2024/3/untitled-ontology-2#Martin_Scorsese - Gender: Male\n",
      "Person: http://www.semanticweb.org/shaima/ontologies/2024/3/untitled-ontology-2#Asghar_Farhadi - Gender: Male\n",
      "Person: http://www.semanticweb.org/shaima/ontologies/2024/3/untitled-ontology-2#David_Carradine - Gender: Male\n",
      "Person: http://www.semanticweb.org/shaima/ontologies/2024/3/untitled-ontology-2#Uma_Thurman - Gender: Female\n",
      "Person: http://www.semanticweb.org/shaima/ontologies/2024/3/untitled-ontology-2#Lucy_Liu - Gender: Female\n",
      "Person: http://www.semanticweb.org/shaima/ontologies/2024/3/untitled-ontology-2#Kevin_Hart - Gender: Male\n",
      "Person: http://www.semanticweb.org/shaima/ontologies/2024/3/untitled-ontology-2#Giuseppe_Tornatore - Gender: Male\n",
      "Person: http://www.semanticweb.org/shaima/ontologies/2024/3/untitled-ontology-2#Philippe_Noiret - Gender: Male\n",
      "Person: http://www.semanticweb.org/shaima/ontologies/2024/3/untitled-ontology-2#Winston_Groom - Gender: Male\n",
      "Person: http://www.semanticweb.org/shaima/ontologies/2024/3/untitled-ontology-2#Tom_Hanks - Gender: unknown\n",
      "Person: http://www.semanticweb.org/shaima/ontologies/2024/3/untitled-ontology-2#Mari_Natsuki - Gender: Female\n",
      "Person: http://www.semanticweb.org/shaima/ontologies/2024/3/untitled-ontology-2#Sareh_Bayat - Gender: Female\n",
      "Person: http://www.semanticweb.org/shaima/ontologies/2024/3/untitled-ontology-2#Enzo_Cannavale - Gender: Male\n",
      "Person: http://www.semanticweb.org/shaima/ontologies/2024/3/untitled-ontology-2#Rachel_McAdams - Gender: Female\n",
      "Person: http://www.semanticweb.org/shaima/ontologies/2024/3/untitled-ontology-2#Rufus - Gender: Male\n",
      "Person: http://www.semanticweb.org/shaima/ontologies/2024/3/untitled-ontology-2#Dwayne_Johnson - Gender: Male\n",
      "Person: http://www.semanticweb.org/shaima/ontologies/2024/3/untitled-ontology-2#Samuel_L_Jackson - Gender: Male\n",
      "Person: http://www.semanticweb.org/shaima/ontologies/2024/3/untitled-ontology-2#Mathieu_Kassovitz - Gender: Male\n",
      "Person: http://www.semanticweb.org/shaima/ontologies/2024/3/untitled-ontology-2#Amy_Ryan - Gender: Female\n",
      "Person: http://www.semanticweb.org/shaima/ontologies/2024/3/untitled-ontology-2#David_Stassen - Gender: Male\n",
      "Person: http://www.semanticweb.org/shaima/ontologies/2024/3/untitled-ontology-2#John_Travolta - Gender: Male\n",
      "Person: http://www.semanticweb.org/shaima/ontologies/2024/3/untitled-ontology-2#Mark_Ruffalo - Gender: Male\n",
      "Person: http://www.semanticweb.org/shaima/ontologies/2024/3/untitled-ontology-2#Bill_Nighy - Gender: Male\n",
      "Person: http://www.semanticweb.org/shaima/ontologies/2024/3/untitled-ontology-2#Vivica_A_Fox - Gender: Female\n"
     ]
    }
   ],
   "source": [
    "from rdflib import Graph, Namespace\n",
    "from owlrl import DeductiveClosure\n",
    "import owlrl\n",
    "# Load your RDF data from the TTL file\n",
    "g = Graph()\n",
    "g.parse(\"C:\\\\Users\\\\Shaima\\\\Desktop\\\\OntologiesAndSemanticWeb\\\\owl_new.ttl\", format=\"ttl\")\n",
    "DeductiveClosure(owlrl.OWLRL_Semantics).expand(g)\n",
    "# onto = get_ontology(\"C:\\\\Users\\\\Shaima\\\\Desktop\\\\OntologiesAndSemanticWeb\\\\owl_new.ttl\").load()\n",
    "# with onto:\n",
    "#     sync_reasoner()\n",
    "# for actor in onto.Actor.instances():\n",
    "#     print(actor)\n",
    "def check_gender_range():\n",
    "    # Define the SPARQL query\n",
    "    query = \"\"\"\n",
    "    PREFIX rdf: <http://www.w3.org/1999/02/22-rdf-syntax-ns#>\n",
    "    PREFIX ns: <http://www.semanticweb.org/shaima/ontologies/2024/3/untitled-ontology-2#>\n",
    "     SELECT ?person ?gender WHERE {\n",
    "            ?person rdf:type ns:Person .\n",
    "            ?person ns:Gender ?gender .\n",
    "        }GROUP BY ?person\n",
    "\n",
    "    \"\"\"\n",
    "    # Execute the query\n",
    "    print(\"Person genders:\")\n",
    "    for row in g.query(query):\n",
    "        person = row.person.toPython()\n",
    "        gender_value = row.gender.toPython()\n",
    "        print(f\"Person: {person} - Gender: {gender_value}\")\n",
    "\n",
    "check_gender_range()\n"
   ]
  }
 ],
 "metadata": {
  "kernelspec": {
   "display_name": "Python 3",
   "language": "python",
   "name": "python3"
  },
  "language_info": {
   "codemirror_mode": {
    "name": "ipython",
    "version": 3
   },
   "file_extension": ".py",
   "mimetype": "text/x-python",
   "name": "python",
   "nbconvert_exporter": "python",
   "pygments_lexer": "ipython3",
   "version": "3.11.9"
  }
 },
 "nbformat": 4,
 "nbformat_minor": 2
}
