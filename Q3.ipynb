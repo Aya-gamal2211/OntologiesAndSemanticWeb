{
 "cells": [
  {
   "cell_type": "code",
   "execution_count": 72,
   "metadata": {},
   "outputs": [],
   "source": [
    "from rdflib.graph import Graph,URIRef,RDF\n",
    "from rdflib.tools import rdf2dot\n",
    "from rdflib.namespace import FOAF\n",
    "from rdflib.plugins.sparql import prepareQuery\n",
    "import owlrl"
   ]
  },
  {
   "cell_type": "code",
   "execution_count": 73,
   "metadata": {},
   "outputs": [
    {
     "data": {
      "text/plain": [
       "<Graph identifier=Ne14c7bdbafcb41d8a10a592ddba0fbbd (<class 'rdflib.graph.Graph'>)>"
      ]
     },
     "execution_count": 73,
     "metadata": {},
     "output_type": "execute_result"
    }
   ],
   "source": [
    "# Load the ontology from a file\n",
    "g = Graph()\n",
    "g.parse(\"./Inference.ttl\", format=\"ttl\")\n"
   ]
  },
  {
   "cell_type": "code",
   "execution_count": 74,
   "metadata": {},
   "outputs": [
    {
     "name": "stdout",
     "output_type": "stream",
     "text": [
      "http://www.semanticweb.org/shaima/ontologies/2024/3/untitled-ontology-2#Rawson_Marshall_Thurber http://www.semanticweb.org/shaima/ontologies/2024/3/untitled-ontology-2#Gender Male\n",
      "http://www.semanticweb.org/shaima/ontologies/2024/3/untitled-ontology-2#Family http://www.w3.org/1999/02/22-rdf-syntax-ns#type http://www.semanticweb.org/shaima/ontologies/2024/3/untitled-ontology-2#Genre\n",
      "http://www.semanticweb.org/shaima/ontologies/2024/3/untitled-ontology-2#Forrest_Gump http://www.semanticweb.org/shaima/ontologies/2024/3/untitled-ontology-2#Year 1994-01-01T00:00:00\n",
      "http://www.semanticweb.org/shaima/ontologies/2024/3/untitled-ontology-2#Gary_Sinise http://www.semanticweb.org/shaima/ontologies/2024/3/untitled-ontology-2#Age 66\n",
      "http://www.semanticweb.org/shaima/ontologies/2024/3/untitled-ontology-2#Miyu_Irino http://www.semanticweb.org/shaima/ontologies/2024/3/untitled-ontology-2#Name Miyu Irino\n",
      "http://www.semanticweb.org/shaima/ontologies/2024/3/untitled-ontology-2#Mathieu_Kassovitz http://www.semanticweb.org/shaima/ontologies/2024/3/untitled-ontology-2#Gender Male\n",
      "http://www.semanticweb.org/shaima/ontologies/2024/3/untitled-ontology-2#Bill_Nighy http://www.w3.org/1999/02/22-rdf-syntax-ns#type http://www.w3.org/2002/07/owl#NamedIndividual\n",
      "http://www.semanticweb.org/shaima/ontologies/2024/3/untitled-ontology-2#Enzo_Cannavale http://www.semanticweb.org/shaima/ontologies/2024/3/untitled-ontology-2#Name Enzo Cannavale\n",
      "http://www.semanticweb.org/shaima/ontologies/2024/3/untitled-ontology-2#Bill_Nighy http://www.w3.org/1999/02/22-rdf-syntax-ns#type http://www.semanticweb.org/shaima/ontologies/2024/3/untitled-ontology-2#Actor\n",
      "http://www.semanticweb.org/shaima/ontologies/2024/3/untitled-ontology-2#Rachel_McAdams http://www.semanticweb.org/shaima/ontologies/2024/3/untitled-ontology-2#Name Rachel McAdams\n",
      "http://www.semanticweb.org/shaima/ontologies/2024/3/untitled-ontology-2#Mari_Natsuki http://www.w3.org/1999/02/22-rdf-syntax-ns#type http://www.w3.org/2002/07/owl#NamedIndividual\n"
     ]
    }
   ],
   "source": [
    "for index,(subj,pred,obj) in enumerate(g):\n",
    "    print(subj,pred,obj)\n",
    "    if( index ==10 ):\n",
    "        break"
   ]
  },
  {
   "cell_type": "code",
   "execution_count": 75,
   "metadata": {},
   "outputs": [
    {
     "name": "stdout",
     "output_type": "stream",
     "text": [
      "566\n"
     ]
    }
   ],
   "source": [
    "print(len(g))"
   ]
  },
  {
   "cell_type": "markdown",
   "metadata": {},
   "source": [
    "### without using inference"
   ]
  },
  {
   "cell_type": "code",
   "execution_count": 76,
   "metadata": {},
   "outputs": [
    {
     "name": "stdout",
     "output_type": "stream",
     "text": [
      "Actors:\n",
      "http://www.semanticweb.org/shaima/ontologies/2024/3/untitled-ontology-2#Mark_Ruffalo\n",
      "http://www.semanticweb.org/shaima/ontologies/2024/3/untitled-ontology-2#Amy_Ryan\n",
      "http://www.semanticweb.org/shaima/ontologies/2024/3/untitled-ontology-2#Bill_Nighy\n",
      "http://www.semanticweb.org/shaima/ontologies/2024/3/untitled-ontology-2#Tom_Hanks\n",
      "http://www.semanticweb.org/shaima/ontologies/2024/3/untitled-ontology-2#John_Travolta\n",
      "http://www.semanticweb.org/shaima/ontologies/2024/3/untitled-ontology-2#Leonardo_DiCaprio\n",
      "http://www.semanticweb.org/shaima/ontologies/2024/3/untitled-ontology-2#Rawson_Marshall_Thurber\n",
      "http://www.semanticweb.org/shaima/ontologies/2024/3/untitled-ontology-2#Vivica_A_Fox\n",
      "http://www.semanticweb.org/shaima/ontologies/2024/3/untitled-ontology-2#Mari_Natsuki\n",
      "http://www.semanticweb.org/shaima/ontologies/2024/3/untitled-ontology-2#Gary_Sinise\n",
      "http://www.semanticweb.org/shaima/ontologies/2024/3/untitled-ontology-2#David_Carradine\n",
      "http://www.semanticweb.org/shaima/ontologies/2024/3/untitled-ontology-2#Sareh_Bayat\n",
      "http://www.semanticweb.org/shaima/ontologies/2024/3/untitled-ontology-2#Peyman_Moaadi\n",
      "http://www.semanticweb.org/shaima/ontologies/2024/3/untitled-ontology-2#Leila_Hatami\n",
      "http://www.semanticweb.org/shaima/ontologies/2024/3/untitled-ontology-2#Lucy_Liu\n",
      "http://www.semanticweb.org/shaima/ontologies/2024/3/untitled-ontology-2#Ben_Kingsley\n",
      "http://www.semanticweb.org/shaima/ontologies/2024/3/untitled-ontology-2#Antonella_Attili\n",
      "http://www.semanticweb.org/shaima/ontologies/2024/3/untitled-ontology-2#Dwayne_Johnson\n",
      "http://www.semanticweb.org/shaima/ontologies/2024/3/untitled-ontology-2#Enzo_Cannavale\n",
      "http://www.semanticweb.org/shaima/ontologies/2024/3/untitled-ontology-2#Audrey_Tautou\n",
      "http://www.semanticweb.org/shaima/ontologies/2024/3/untitled-ontology-2#Rufus\n",
      "http://www.semanticweb.org/shaima/ontologies/2024/3/untitled-ontology-2#Miyu_Irino\n",
      "http://www.semanticweb.org/shaima/ontologies/2024/3/untitled-ontology-2#Domhnall_Gleeson\n",
      "http://www.semanticweb.org/shaima/ontologies/2024/3/untitled-ontology-2#Rachel_McAdams\n",
      "http://www.semanticweb.org/shaima/ontologies/2024/3/untitled-ontology-2#Kevin_Hart\n",
      "http://www.semanticweb.org/shaima/ontologies/2024/3/untitled-ontology-2#Mathieu_Kassovitz\n",
      "http://www.semanticweb.org/shaima/ontologies/2024/3/untitled-ontology-2#Rumi_Hiiragi\n",
      "http://www.semanticweb.org/shaima/ontologies/2024/3/untitled-ontology-2#Samuel_L_Jackson\n",
      "http://www.semanticweb.org/shaima/ontologies/2024/3/untitled-ontology-2#Philippe_Noiret\n",
      "http://www.semanticweb.org/shaima/ontologies/2024/3/untitled-ontology-2#Uma_Thurman\n",
      "http://www.semanticweb.org/shaima/ontologies/2024/3/untitled-ontology-2#Shahab_Hosseini\n",
      "http://www.semanticweb.org/shaima/ontologies/2024/3/untitled-ontology-2#Robin_Wright\n"
     ]
    }
   ],
   "source": [
    "\n",
    "from rdflib import Graph, Namespace, RDF\n",
    "from rdflib.plugins.sparql import prepareQuery\n",
    "from rdflib.namespace import RDFS\n",
    "\n",
    "# Define namespaces\n",
    "onto = Namespace(\"http://www.semanticweb.org/shaima/ontologies/2024/3/untitled-ontology-2#\")\n",
    "\n",
    "# Define a function to get all subclasses recursively\n",
    "def get_all_subclasses(class_uri):\n",
    "    subclasses = set(g.subjects(RDF.type, class_uri))\n",
    "    for subclass in list(subclasses):\n",
    "        subclasses |= get_all_subclasses(subclass) #This recursive call used to traverse the class hierarchy \n",
    "#and retrieve all subclasses, including indirect ones. The |= operator is used to merge the sets of subclasses.\n",
    "    return subclasses\n",
    "\n",
    "# Get all actor subclasses\n",
    "actor_subclasses = get_all_subclasses(onto.Actor)\n",
    "\n",
    "# Display all actors inferred from the ontology\n",
    "print(\"Actors:\")\n",
    "for actor in actor_subclasses:\n",
    "    print(actor)\n"
   ]
  },
  {
   "cell_type": "markdown",
   "metadata": {},
   "source": [
    "### Using inference rules "
   ]
  },
  {
   "cell_type": "code",
   "execution_count": 77,
   "metadata": {},
   "outputs": [
    {
     "name": "stdout",
     "output_type": "stream",
     "text": [
      "Actors participated in movies:\n",
      "Actor: Mathieu_Kassovitz\n",
      "Actor: David_Carradine\n",
      "Actor: Tom_Hanks\n",
      "Actor: Mari_Natsuki\n",
      "Actor: Lucy_Liu\n",
      "Actor: Dwayne_Johnson\n",
      "Actor: Ben_Kingsley\n",
      "Actor: Bill_Nighy\n",
      "Actor: Shahab_Hosseini\n",
      "Actor: Gary_Sinise\n",
      "Actor: Kevin_Hart\n",
      "Actor: Samuel_L_Jackson\n",
      "Actor: Audrey_Tautou\n",
      "Actor: Rufus\n",
      "Actor: Vivica_A_Fox\n",
      "Actor: Leonardo_DiCaprio\n",
      "Actor: Philippe_Noiret\n",
      "Actor: Amy_Ryan\n",
      "Actor: Sareh_Bayat\n",
      "Actor: Peyman_Moaadi\n",
      "Actor: Mark_Ruffalo\n",
      "Actor: Uma_Thurman\n",
      "Actor: Rawson_Marshall_Thurber\n",
      "Actor: John_Travolta\n",
      "Actor: Leila_Hatami\n",
      "Actor: Enzo_Cannavale\n",
      "Actor: Robin_Wright\n",
      "Actor: Domhnall_Gleeson\n",
      "Actor: Rachel_McAdams\n",
      "Actor: Rumi_Hiiragi\n",
      "Actor: Miyu_Irino\n",
      "Actor: Antonella_Attili\n"
     ]
    }
   ],
   "source": [
    "from rdflib.plugins.sparql import prepareQuery, prepareUpdate\n",
    "from rdflib import Graph, Namespace\n",
    "# Initialize the RDF graph\n",
    "g = Graph()\n",
    "# Parse the RDF data file\n",
    "g.parse(\"./inference.ttl\", format=\"ttl\")\n",
    "\n",
    "# Define the namespace\n",
    "ns = Namespace(\"http://www.semanticweb.org/shaima/ontologies/2024/3/untitled-ontology-2#\")\n",
    "\n",
    "# Define the rule to insert individuals who are actors within movies\n",
    "rule = \"\"\"\n",
    "PREFIX rdf: <http://www.w3.org/1999/02/22-rdf-syntax-ns#>\n",
    "PREFIX ns: <http://www.semanticweb.org/shaima/ontologies/2024/3/untitled-ontology-2#>\n",
    "\n",
    "INSERT {\n",
    "    ?person rdf:type ns:ActorInMovie.\n",
    "}\n",
    "WHERE {\n",
    "    ?movie rdf:type ns:Movie .\n",
    "    ?person rdf:type ns:Actor .\n",
    "    ?movie ns:hasActor ?person .\n",
    "}\n",
    "\"\"\"\n",
    "\n",
    "# Apply the rule using SPARQL update\n",
    "update_query = prepareUpdate(rule)\n",
    "g.update(update_query)\n",
    "\n",
    "# Define the query to select actors within movies\n",
    "query = prepareQuery(\n",
    "    \"\"\"\n",
    "    PREFIX rdf: <http://www.w3.org/1999/02/22-rdf-syntax-ns#>\n",
    "    PREFIX ns: <http://www.semanticweb.org/shaima/ontologies/2024/3/untitled-ontology-2#>\n",
    "\n",
    "    SELECT ?actor\n",
    "    WHERE {\n",
    "        ?actor rdf:type ns:ActorInMovie .\n",
    "    }\n",
    "    \"\"\"\n",
    ")\n",
    "\n",
    "# Execute the query and print the results\n",
    "print(\"Actors participated in movies:\")\n",
    "for row in g.query(query):\n",
    "    actor_name = row.actor.split('#')[-1]\n",
    "    print(f\"Actor: {actor_name}\")\n"
   ]
  }
 ],
 "metadata": {
  "kernelspec": {
   "display_name": "Python 3",
   "language": "python",
   "name": "python3"
  },
  "language_info": {
   "codemirror_mode": {
    "name": "ipython",
    "version": 3
   },
   "file_extension": ".py",
   "mimetype": "text/x-python",
   "name": "python",
   "nbconvert_exporter": "python",
   "pygments_lexer": "ipython3",
   "version": "3.11.9"
  }
 },
 "nbformat": 4,
 "nbformat_minor": 2
}
