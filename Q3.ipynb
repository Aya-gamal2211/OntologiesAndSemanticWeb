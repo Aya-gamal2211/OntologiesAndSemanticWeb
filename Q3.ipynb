{
 "cells": [
  {
   "cell_type": "code",
   "execution_count": 7,
   "metadata": {},
   "outputs": [],
   "source": [
    "from rdflib.graph import Graph,URIRef,RDF\n",
    "from rdflib.tools import rdf2dot\n",
    "from rdflib.namespace import FOAF\n",
    "from rdflib.plugins.sparql import prepareQuery\n",
    "import owlrl"
   ]
  },
  {
   "cell_type": "code",
   "execution_count": 2,
   "metadata": {},
   "outputs": [
    {
     "data": {
      "text/plain": [
       "<Graph identifier=Nf027bb44ac0947679c965129808d4d24 (<class 'rdflib.graph.Graph'>)>"
      ]
     },
     "execution_count": 2,
     "metadata": {},
     "output_type": "execute_result"
    }
   ],
   "source": [
    "# Load the ontology from a file\n",
    "g = Graph()\n",
    "g.parse(\"./OntologiesPart.ttl\", format=\"ttl\")\n"
   ]
  },
  {
   "cell_type": "code",
   "execution_count": 3,
   "metadata": {},
   "outputs": [
    {
     "name": "stdout",
     "output_type": "stream",
     "text": [
      "http://www.semanticweb.org/shaima/ontologies/2024/3/untitled-ontology-2#Mari_Natsuki http://www.semanticweb.org/shaima/ontologies/2024/3/untitled-ontology-2#Name Mari Natsuki\n",
      "http://www.semanticweb.org/shaima/ontologies/2024/3/untitled-ontology-2#Adventure http://www.w3.org/1999/02/22-rdf-syntax-ns#type http://www.w3.org/2002/07/owl#Class\n",
      "http://www.semanticweb.org/shaima/ontologies/2024/3/untitled-ontology-2#Rumi_Hiiragi http://www.semanticweb.org/shaima/ontologies/2024/3/untitled-ontology-2#Age 51\n",
      "http://www.semanticweb.org/shaima/ontologies/2024/3/untitled-ontology-2#Amy_Ryan http://www.semanticweb.org/shaima/ontologies/2024/3/untitled-ontology-2#Name Amy Ryan\n",
      "http://www.semanticweb.org/shaima/ontologies/2024/3/untitled-ontology-2#Year http://www.w3.org/2000/01/rdf-schema#subPropertyOf http://www.w3.org/2002/07/owl#topDataProperty\n",
      "http://www.semanticweb.org/shaima/ontologies/2024/3/untitled-ontology-2#Language http://www.w3.org/2000/01/rdf-schema#range http://www.w3.org/2001/XMLSchema#string\n",
      "http://www.semanticweb.org/shaima/ontologies/2024/3/untitled-ontology-2#Leonardo_DiCaprio http://www.semanticweb.org/shaima/ontologies/2024/3/untitled-ontology-2#Nationality American\n",
      "http://www.semanticweb.org/shaima/ontologies/2024/3/untitled-ontology-2#Pulp_Fiction http://www.w3.org/1999/02/22-rdf-syntax-ns#type http://www.semanticweb.org/shaima/ontologies/2024/3/untitled-ontology-2#Movie\n",
      "http://www.semanticweb.org/shaima/ontologies/2024/3/untitled-ontology-2#Winston_Groom http://www.semanticweb.org/shaima/ontologies/2024/3/untitled-ontology-2#Age 101\n",
      "http://www.semanticweb.org/shaima/ontologies/2024/3/untitled-ontology-2#hasWriter http://www.w3.org/2000/01/rdf-schema#domain http://www.semanticweb.org/shaima/ontologies/2024/3/untitled-ontology-2#Writer\n",
      "http://www.semanticweb.org/shaima/ontologies/2024/3/untitled-ontology-2#Spirited_Away http://www.semanticweb.org/shaima/ontologies/2024/3/untitled-ontology-2#hasActor http://www.semanticweb.org/shaima/ontologies/2024/3/untitled-ontology-2#Rumi_Hiiragi\n"
     ]
    }
   ],
   "source": [
    "for index,(subj,pred,obj) in enumerate(g):\n",
    "    print(subj,pred,obj)\n",
    "    if( index ==10 ):\n",
    "        break"
   ]
  },
  {
   "cell_type": "code",
   "execution_count": 4,
   "metadata": {},
   "outputs": [
    {
     "name": "stdout",
     "output_type": "stream",
     "text": [
      "531\n"
     ]
    }
   ],
   "source": [
    "print(len(g))"
   ]
  },
  {
   "cell_type": "markdown",
   "metadata": {},
   "source": [
    "The OWLRL_Semantics class applies the OWL reasoning rules, which include rules for inferring subclass relationships, equivalent classes, property characteristics, and other OWL constructs. "
   ]
  },
  {
   "cell_type": "code",
   "execution_count": 6,
   "metadata": {},
   "outputs": [
    {
     "name": "stdout",
     "output_type": "stream",
     "text": [
      "Actors:\n",
      "http://www.semanticweb.org/shaima/ontologies/2024/3/untitled-ontology-2#Enzo_Cannavale\n",
      "http://www.semanticweb.org/shaima/ontologies/2024/3/untitled-ontology-2#Uma_Thurman\n",
      "http://www.semanticweb.org/shaima/ontologies/2024/3/untitled-ontology-2#Shahab_Hosseini\n",
      "http://www.semanticweb.org/shaima/ontologies/2024/3/untitled-ontology-2#Rachel_McAdams\n",
      "http://www.semanticweb.org/shaima/ontologies/2024/3/untitled-ontology-2#Peyman_Moaadi\n",
      "http://www.semanticweb.org/shaima/ontologies/2024/3/untitled-ontology-2#Mark_Ruffalo\n",
      "http://www.semanticweb.org/shaima/ontologies/2024/3/untitled-ontology-2#Tom_Hanks\n",
      "http://www.semanticweb.org/shaima/ontologies/2024/3/untitled-ontology-2#Rufus\n",
      "http://www.semanticweb.org/shaima/ontologies/2024/3/untitled-ontology-2#Domhnall_Gleeson\n",
      "http://www.semanticweb.org/shaima/ontologies/2024/3/untitled-ontology-2#Leonardo_DiCaprio\n",
      "http://www.semanticweb.org/shaima/ontologies/2024/3/untitled-ontology-2#Audrey_Tautou\n",
      "http://www.semanticweb.org/shaima/ontologies/2024/3/untitled-ontology-2#Lucy_Liu\n",
      "http://www.semanticweb.org/shaima/ontologies/2024/3/untitled-ontology-2#Miyu_Irino\n",
      "http://www.semanticweb.org/shaima/ontologies/2024/3/untitled-ontology-2#John_Travolta\n",
      "http://www.semanticweb.org/shaima/ontologies/2024/3/untitled-ontology-2#Bill_Nighy\n",
      "http://www.semanticweb.org/shaima/ontologies/2024/3/untitled-ontology-2#Mari_Natsuki\n",
      "http://www.semanticweb.org/shaima/ontologies/2024/3/untitled-ontology-2#Philippe_Noiret\n",
      "http://www.semanticweb.org/shaima/ontologies/2024/3/untitled-ontology-2#Leila_Hatami\n",
      "http://www.semanticweb.org/shaima/ontologies/2024/3/untitled-ontology-2#Amy_Ryan\n",
      "http://www.semanticweb.org/shaima/ontologies/2024/3/untitled-ontology-2#Mathieu_Kassovitz\n",
      "http://www.semanticweb.org/shaima/ontologies/2024/3/untitled-ontology-2#Rawson_Marshall_Thurber\n",
      "http://www.semanticweb.org/shaima/ontologies/2024/3/untitled-ontology-2#Dwayne_Johnson\n",
      "http://www.semanticweb.org/shaima/ontologies/2024/3/untitled-ontology-2#Gary_Sinise\n",
      "http://www.semanticweb.org/shaima/ontologies/2024/3/untitled-ontology-2#Antonella_Attili\n",
      "http://www.semanticweb.org/shaima/ontologies/2024/3/untitled-ontology-2#Sareh_Bayat\n",
      "http://www.semanticweb.org/shaima/ontologies/2024/3/untitled-ontology-2#Vivica_A_Fox\n",
      "http://www.semanticweb.org/shaima/ontologies/2024/3/untitled-ontology-2#Rumi_Hiiragi\n",
      "http://www.semanticweb.org/shaima/ontologies/2024/3/untitled-ontology-2#Kevin_Hart\n",
      "http://www.semanticweb.org/shaima/ontologies/2024/3/untitled-ontology-2#Ben_Kingsley\n",
      "http://www.semanticweb.org/shaima/ontologies/2024/3/untitled-ontology-2#David_Carradine\n",
      "http://www.semanticweb.org/shaima/ontologies/2024/3/untitled-ontology-2#Robin_Wright\n",
      "http://www.semanticweb.org/shaima/ontologies/2024/3/untitled-ontology-2#Samuel_L_Jackson\n"
     ]
    }
   ],
   "source": [
    "\n",
    "from rdflib import Graph, Namespace, RDF\n",
    "from rdflib.plugins.sparql import prepareQuery\n",
    "from rdflib.namespace import RDFS\n",
    "\n",
    "# Apply OWL reasoning\n",
    "owlrl.OWLRL_Semantics(g,axioms=True, daxioms=True)\n",
    "\n",
    "# Define namespaces\n",
    "onto = Namespace(\"http://www.semanticweb.org/shaima/ontologies/2024/3/untitled-ontology-2#\")\n",
    "\n",
    "# Define a function to get all subclasses recursively\n",
    "def get_all_subclasses(class_uri):\n",
    "    subclasses = set(g.subjects(RDF.type, class_uri))\n",
    "    for subclass in list(subclasses):\n",
    "        subclasses |= get_all_subclasses(subclass) #This recursive call used to traverse the class hierarchy \n",
    "#and retrieve all subclasses, including indirect ones. The |= operator is used to merge the sets of subclasses.\n",
    "    return subclasses\n",
    "\n",
    "# Get all actor subclasses\n",
    "actor_subclasses = get_all_subclasses(onto.Actor)\n",
    "\n",
    "# Display all actors inferred from the ontology\n",
    "print(\"Actors:\")\n",
    "for actor in actor_subclasses:\n",
    "    print(actor)\n"
   ]
  }
 ],
 "metadata": {
  "kernelspec": {
   "display_name": "Python 3",
   "language": "python",
   "name": "python3"
  },
  "language_info": {
   "codemirror_mode": {
    "name": "ipython",
    "version": 3
   },
   "file_extension": ".py",
   "mimetype": "text/x-python",
   "name": "python",
   "nbconvert_exporter": "python",
   "pygments_lexer": "ipython3",
   "version": "3.11.9"
  }
 },
 "nbformat": 4,
 "nbformat_minor": 2
}
