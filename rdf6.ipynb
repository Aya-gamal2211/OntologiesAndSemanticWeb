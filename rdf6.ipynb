{
 "cells": [
  {
   "cell_type": "markdown",
   "metadata": {},
   "source": [
    "### Check on the 1st Rule\n",
    "\n",
    "### Rule 1: Every movie must have at least one actor.\n"
   ]
  },
  {
   "cell_type": "code",
   "execution_count": 12,
   "metadata": {},
   "outputs": [
    {
     "name": "stdout",
     "output_type": "stream",
     "text": [
      "Movies with multiple actors:\n",
      "Movie: http://www.semanticweb.org/shaima/ontologies/2024/3/untitled-ontology-2#A_Separation - Number of Actors: 4\n",
      "Movie: http://www.semanticweb.org/shaima/ontologies/2024/3/untitled-ontology-2#About_Time - Number of Actors: 3\n",
      "Movie: http://www.semanticweb.org/shaima/ontologies/2024/3/untitled-ontology-2#Amélie - Number of Actors: 3\n",
      "Movie: http://www.semanticweb.org/shaima/ontologies/2024/3/untitled-ontology-2#Central_Intelligence - Number of Actors: 4\n",
      "Movie: http://www.semanticweb.org/shaima/ontologies/2024/3/untitled-ontology-2#Cinema_Paradiso - Number of Actors: 3\n",
      "Movie: http://www.semanticweb.org/shaima/ontologies/2024/3/untitled-ontology-2#Forrest_Gump - Number of Actors: 3\n",
      "Movie: http://www.semanticweb.org/shaima/ontologies/2024/3/untitled-ontology-2#Kill_Bill_Volume_1 - Number of Actors: 4\n",
      "Movie: http://www.semanticweb.org/shaima/ontologies/2024/3/untitled-ontology-2#Pulp_Fiction - Number of Actors: 2\n",
      "Movie: http://www.semanticweb.org/shaima/ontologies/2024/3/untitled-ontology-2#Shutter_Island - Number of Actors: 3\n",
      "Movie: http://www.semanticweb.org/shaima/ontologies/2024/3/untitled-ontology-2#Spirited_Away - Number of Actors: 3\n"
     ]
    }
   ],
   "source": [
    "from rdflib import Graph, Namespace\n",
    "\n",
    "# Load your RDF data from the TTL file\n",
    "g = Graph()\n",
    "g.parse(\"C:\\\\Users\\\\Shaima\\\\Desktop\\\\OntologiesAndSemanticWeb\\\\owl_new.ttl\", format=\"ttl\")\n",
    "\n",
    "# Define namespaces\n",
    "onto = Namespace(\"http://www.semanticweb.org/shaima/ontologies/2024/3/untitled-ontology-2#\")\n",
    "\n",
    "def movies_with_multiple_actors():\n",
    "    # Define the SPARQL query\n",
    "    query = \"\"\"\n",
    "    PREFIX rdf: <http://www.w3.org/1999/02/22-rdf-syntax-ns#>\n",
    "    PREFIX ns: <http://www.semanticweb.org/shaima/ontologies/2024/3/untitled-ontology-2#>\n",
    "    SELECT ?movie (COUNT(DISTINCT ?Actor) as ?ActorCount) WHERE {\n",
    "        ?movie rdf:type ns:Movie .\n",
    "        ?movie ns:hasActor ?Actor .\n",
    "    }\n",
    "    GROUP BY ?movie\n",
    "    HAVING (COUNT(DISTINCT ?Actor) > 1)\n",
    "    \"\"\"\n",
    "    # Execute the query\n",
    "    print(\"Movies with multiple actors:\")\n",
    "    for row in g.query(query):\n",
    "        movie_uri = row.movie.toPython()\n",
    "        actor_count = row.ActorCount.toPython()\n",
    "        print(f\"Movie: {movie_uri} - Number of Actors: {actor_count}\")\n",
    "\n",
    "movies_with_multiple_actors()\n",
    "\n"
   ]
  },
  {
   "cell_type": "markdown",
   "metadata": {},
   "source": [
    "### Rule 3: A movie may consist of more than one genre.\n"
   ]
  },
  {
   "cell_type": "code",
   "execution_count": 13,
   "metadata": {},
   "outputs": [
    {
     "name": "stdout",
     "output_type": "stream",
     "text": [
      "Movies with multiple genres:\n",
      "Movie: http://www.semanticweb.org/shaima/ontologies/2024/3/untitled-ontology-2#About_Time - Number of genres: 2\n",
      "Movie: http://www.semanticweb.org/shaima/ontologies/2024/3/untitled-ontology-2#Amélie - Number of genres: 2\n",
      "Movie: http://www.semanticweb.org/shaima/ontologies/2024/3/untitled-ontology-2#Central_Intelligence - Number of genres: 3\n",
      "Movie: http://www.semanticweb.org/shaima/ontologies/2024/3/untitled-ontology-2#Forrest_Gump - Number of genres: 2\n",
      "Movie: http://www.semanticweb.org/shaima/ontologies/2024/3/untitled-ontology-2#Pulp_Fiction - Number of genres: 2\n",
      "Movie: http://www.semanticweb.org/shaima/ontologies/2024/3/untitled-ontology-2#Shutter_Island - Number of genres: 2\n",
      "Movie: http://www.semanticweb.org/shaima/ontologies/2024/3/untitled-ontology-2#Spirited_Away - Number of genres: 3\n"
     ]
    }
   ],
   "source": [
    "from rdflib import Graph, Namespace\n",
    "\n",
    "# Load your RDF data from the TTL file\n",
    "g = Graph()\n",
    "g.parse(\"C:\\\\Users\\\\Shaima\\\\Desktop\\\\OntologiesAndSemanticWeb\\\\owl_new.ttl\", format=\"ttl\")\n",
    "\n",
    "# Define namespaces\n",
    "onto = Namespace(\"http://www.semanticweb.org/shaima/ontologies/2024/3/untitled-ontology-2#\")\n",
    "\n",
    "def movies_with_multiple_genres():\n",
    "    # Define the SPARQL query\n",
    "    query = \"\"\"\n",
    "    PREFIX rdf: <http://www.w3.org/1999/02/22-rdf-syntax-ns#>\n",
    "    PREFIX ns: <http://www.semanticweb.org/shaima/ontologies/2024/3/untitled-ontology-2#>\n",
    "    SELECT ?movie (COUNT(DISTINCT ?genre) as ?genreCount) WHERE {\n",
    "        ?movie rdf:type ns:Movie .\n",
    "        ?movie ns:hasGenre ?genre .\n",
    "    }\n",
    "    GROUP BY ?movie\n",
    "    HAVING (COUNT(DISTINCT ?genre) > 1)\n",
    "    \"\"\"\n",
    "    # Execute the query\n",
    "    print(\"Movies with multiple genres:\")\n",
    "    for row in g.query(query):\n",
    "        movie_uri = row.movie.toPython()\n",
    "        genre_count = row.genreCount.toPython()\n",
    "        print(f\"Movie: {movie_uri} - Number of genres: {genre_count}\")\n",
    "\n",
    "movies_with_multiple_genres()\n"
   ]
  }
 ],
 "metadata": {
  "kernelspec": {
   "display_name": "Python 3",
   "language": "python",
   "name": "python3"
  },
  "language_info": {
   "codemirror_mode": {
    "name": "ipython",
    "version": 3
   },
   "file_extension": ".py",
   "mimetype": "text/x-python",
   "name": "python",
   "nbconvert_exporter": "python",
   "pygments_lexer": "ipython3",
   "version": "3.11.9"
  }
 },
 "nbformat": 4,
 "nbformat_minor": 2
}
