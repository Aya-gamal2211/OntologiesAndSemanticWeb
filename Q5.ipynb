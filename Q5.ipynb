{
 "cells": [
  {
   "cell_type": "code",
   "execution_count": 333,
   "metadata": {},
   "outputs": [],
   "source": [
    "from rdflib import Graph, Namespace, RDF\n",
    "from rdflib.plugins import sparql\n",
    "from rdflib.namespace import RDFS\n",
    "from rdflib.extras import infixowl\n",
    "import owlrl"
   ]
  },
  {
   "cell_type": "code",
   "execution_count": 334,
   "metadata": {},
   "outputs": [
    {
     "data": {
      "text/plain": [
       "<Graph identifier=N1f16a7eec0d342c2a70c463d2fd962c7 (<class 'rdflib.graph.Graph'>)>"
      ]
     },
     "execution_count": 334,
     "metadata": {},
     "output_type": "execute_result"
    }
   ],
   "source": [
    "# Load the ontology from a file\n",
    "g = Graph()\n",
    "g.parse(\"./inference.ttl\", format=\"ttl\")"
   ]
  },
  {
   "cell_type": "code",
   "execution_count": 335,
   "metadata": {},
   "outputs": [
    {
     "name": "stdout",
     "output_type": "stream",
     "text": [
      "Actors and Directors are :\n",
      "actor_director_name: Robin_Wright\n",
      "actor_director_name: Rawson_Marshall_Thurber\n"
     ]
    }
   ],
   "source": [
    "from rdflib.plugins.sparql import prepareQuery,prepareUpdate\n",
    "g = Graph()\n",
    "g.parse(\"./inference.ttl\", format=\"ttl\")\n",
    "ns = Namespace(\"http://www.semanticweb.org/shaima/ontologies/2024/3/untitled-ontology-2#\")\n",
    "rule=\"\"\"\n",
    "PREFIX rdf: <http://www.w3.org/1999/02/22-rdf-syntax-ns#>\n",
    "PREFIX ns: <http://www.semanticweb.org/shaima/ontologies/2024/3/untitled-ontology-2#>\n",
    "INSERT {\n",
    "    ?person rdf:type ns:ActorDirector.\n",
    "}\n",
    "where {\n",
    "    ?person rdf:type ns:Actor .\n",
    "    ?person rdf:type ns:Director .\n",
    "}\n",
    "\"\"\"\n",
    "update_query = prepareUpdate(rule)\n",
    "g.update(update_query)\n",
    "query =prepareQuery(\n",
    "\"\"\"\n",
    "PREFIX rdf: <http://www.w3.org/1999/02/22-rdf-syntax-ns#>\n",
    "PREFIX ns: <http://www.semanticweb.org/shaima/ontologies/2024/3/untitled-ontology-2#>\n",
    "SELECT ?person \n",
    "WHERE {\n",
    "\n",
    "    ?person rdf:type ns:ActorDirector.\n",
    "}\n",
    "\"\"\"\n",
    ")\n",
    "print(\"Actors and Directors are :\")\n",
    "for row in g.query(query):\n",
    "    actor_director_name = row.person.split('#')[-1]\n",
    "    print(f\"actor_director_name: {actor_director_name}\")"
   ]
  },
  {
   "cell_type": "code",
   "execution_count": 336,
   "metadata": {},
   "outputs": [
    {
     "name": "stdout",
     "output_type": "stream",
     "text": [
      "Persons that are ActorDirector:\n",
      "http://www.semanticweb.org/shaima/ontologies/2024/3/untitled-ontology-2#Amy_Ryan\n",
      "http://www.semanticweb.org/shaima/ontologies/2024/3/untitled-ontology-2#Tom_Hanks\n",
      "http://www.semanticweb.org/shaima/ontologies/2024/3/untitled-ontology-2#Rawson_Marshall_Thurber\n",
      "http://www.semanticweb.org/shaima/ontologies/2024/3/untitled-ontology-2#Martin_Scorsese\n",
      "http://www.semanticweb.org/shaima/ontologies/2024/3/untitled-ontology-2#Kevin_Hart\n",
      "http://www.semanticweb.org/shaima/ontologies/2024/3/untitled-ontology-2#Robin_Wright\n",
      "http://www.semanticweb.org/shaima/ontologies/2024/3/untitled-ontology-2#Dwayne_Johnson\n",
      "http://www.semanticweb.org/shaima/ontologies/2024/3/untitled-ontology-2#Gary_Sinise\n"
     ]
    }
   ],
   "source": [
    "from rdflib.plugins.sparql import prepareQuery, prepareUpdate\n",
    "from rdflib import Graph, Namespace\n",
    "from owlrl import  *\n",
    "# Initialize the RDF graph\n",
    "g = Graph()\n",
    "\n",
    "# Parse the RDF data file\n",
    "g.parse(\"./inference.ttl\", format=\"ttl\")\n",
    "\n",
    "# Define the namespace\n",
    "ns = Namespace(\"http://www.semanticweb.org/shaima/ontologies/2024/3/untitled-ontology-2#\")\n",
    "\n",
    "# Apply Deductive Closure reasoning with OWLRL Semantics to the graph\n",
    "DeductiveClosure(OWLRL_Semantics).expand(g)\n",
    "\n",
    "# Get all the actor-directors from the ontology\n",
    "actor_director = set()\n",
    "for subj, pred, obj in g:\n",
    "    # Check if the subject is an ActorWriter\n",
    "    if (subj, RDF.type, ns.ActorDirector) in g:\n",
    "        actor_director.add(subj)\n",
    "\n",
    "# Display the actor-directors\n",
    "print(\"Persons that are ActorDirector:\")\n",
    "for intersections in actor_director:\n",
    "    print(intersections)\n"
   ]
  }
 ],
 "metadata": {
  "kernelspec": {
   "display_name": "Python 3",
   "language": "python",
   "name": "python3"
  },
  "language_info": {
   "codemirror_mode": {
    "name": "ipython",
    "version": 3
   },
   "file_extension": ".py",
   "mimetype": "text/x-python",
   "name": "python",
   "nbconvert_exporter": "python",
   "pygments_lexer": "ipython3",
   "version": "3.11.5"
  }
 },
 "nbformat": 4,
 "nbformat_minor": 2
}
