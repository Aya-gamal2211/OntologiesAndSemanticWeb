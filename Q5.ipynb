{
 "cells": [
  {
   "cell_type": "code",
   "execution_count": 143,
   "metadata": {},
   "outputs": [],
   "source": [
    "from rdflib import Graph, Namespace, RDF\n",
    "from rdflib.plugins import sparql\n",
    "from rdflib.namespace import RDFS\n",
    "from rdflib.extras import infixowl\n",
    "import owlrl"
   ]
  },
  {
   "cell_type": "code",
   "execution_count": 144,
   "metadata": {},
   "outputs": [
    {
     "data": {
      "text/plain": [
       "<Graph identifier=N9be717fc70244cf98809d765ec98f31b (<class 'rdflib.graph.Graph'>)>"
      ]
     },
     "execution_count": 144,
     "metadata": {},
     "output_type": "execute_result"
    }
   ],
   "source": [
    "# Load the ontology from a file\n",
    "g = Graph()\n",
    "g.parse(\"./inference.ttl\", format=\"ttl\")"
   ]
  },
  {
   "cell_type": "code",
   "execution_count": 145,
   "metadata": {},
   "outputs": [],
   "source": [
    "# Load custom rules\n",
    "rule_file = \"./owl_new.ttl\"\n"
   ]
  },
  {
   "cell_type": "code",
   "execution_count": 197,
   "metadata": {},
   "outputs": [
    {
     "name": "stdout",
     "output_type": "stream",
     "text": [
      "Actors and Directors:\n",
      "Actor_director: Rawson_Marshall_Thurber\n",
      "Actor_director: Robin_Wright\n",
      "Actor_director: Kevin_Hart\n",
      "Actor_director: Dwayne_Johnson\n",
      "Actor_director: Gary_Sinise\n",
      "Actor_director: Martin_Scorsese\n",
      "Actor_director: Tom_Hanks\n",
      "Actor_director: Amy_Ryan\n"
     ]
    }
   ],
   "source": [
    "from rdflib import Graph, Namespace\n",
    "from owlrl import DeductiveClosure\n",
    "\n",
    "# Apply Deductive Closure for OWL reasoning\n",
    "DeductiveClosure(owlrl.OWLRL_Semantics).expand(g)\n",
    "\n",
    "# Define namespaces\n",
    "ns = Namespace(\"http://www.semanticweb.org/shaima/ontologies/2024/3/untitled-ontology-2#\")\n",
    "\n",
    "def actor_and_director():\n",
    "    # Define the SPARQL query\n",
    "    query = \"\"\"\n",
    "    PREFIX rdf: <http://www.w3.org/1999/02/22-rdf-syntax-ns#>\n",
    "    PREFIX ns: <http://www.semanticweb.org/shaima/ontologies/2024/3/untitled-ontology-2#>\n",
    "    SELECT DISTINCT ?actor_director WHERE {\n",
    "        ?actor_director rdf:type ns:ActorDirector .\n",
    "        \n",
    "        # Ensure that the individual is an actor\n",
    "        ?movie1 rdf:type ns:Movie .\n",
    "        ?movie1 ns:hasActor ?actor_director .\n",
    "        ?actor_director ns:Name ?name1 .\n",
    "        \n",
    "        # Ensure that the individual is a director\n",
    "        ?movie2 rdf:type ns:Movie .\n",
    "        ?movie2 ns:hasDirector ?actor_director .\n",
    "        ?actor_director ns:Name ?name2 .\n",
    "\n",
    "        # Ensure that the movies are different or the same\n",
    "        FILTER (?movie1 != ?movie2 || ?movie1 = ?movie2)\n",
    "        FILTER (?name1 = ?name2)\n",
    "\n",
    "        # Ensure that the names match in at least one movie\n",
    "    }\n",
    "    \"\"\"\n",
    "    # Execute the query\n",
    "    print(\"Actors and Directors:\")\n",
    "    for row in g.query(query, initNs={\"ns\": ns}):\n",
    "        # Extract the local name from the URIs\n",
    "        my_actor = row.actor_director.split('#')[-1]  # Split the URI by '#' and take the last part\n",
    "        print(f\"Actor_director: {my_actor}\")\n",
    "\n",
    "actor_and_director()\n"
   ]
  },
  {
   "cell_type": "code",
   "execution_count": 184,
   "metadata": {},
   "outputs": [
    {
     "name": "stdout",
     "output_type": "stream",
     "text": [
      "Actors and Directors:\n",
      "Actor_director: Antonella_Attili\n",
      "Actor_director: Audrey_Tautou\n",
      "Actor_director: Ben_Kingsley\n",
      "Actor_director: Bill_Nighy\n",
      "Actor_director: David_Carradine\n",
      "Actor_director: Domhnall_Gleeson\n",
      "Actor_director: Enzo_Cannavale\n",
      "Actor_director: John_Travolta\n",
      "Actor_director: Leila_Hatami\n",
      "Actor_director: Leonardo_DiCaprio\n",
      "Actor_director: Lucy_Liu\n",
      "Actor_director: Mari_Natsuki\n",
      "Actor_director: Mark_Ruffalo\n",
      "Actor_director: Mathieu_Kassovitz\n",
      "Actor_director: Miyu_Irino\n",
      "Actor_director: Peyman_Moaadi\n",
      "Actor_director: Philippe_Noiret\n",
      "Actor_director: Rachel_McAdams\n",
      "Actor_director: Rufus\n",
      "Actor_director: Rumi_Hiiragi\n",
      "Actor_director: Samuel_L_Jackson\n",
      "Actor_director: Sareh_Bayat\n",
      "Actor_director: Shahab_Hosseini\n",
      "Actor_director: Uma_Thurman\n",
      "Actor_director: Vivica_A_Fox\n",
      "Actor_director: Asghar_Farhadi\n",
      "Actor_director: Giuseppe_Tornatore\n",
      "Actor_director: Hayao_Miyazaki\n",
      "Actor_director: Jean_Pierre_Jeunet\n",
      "Actor_director: Quentin_Tarantino\n",
      "Actor_director: Richard_Curtis\n",
      "Actor_director: Robert_Zemeckis\n"
     ]
    }
   ],
   "source": [
    "from rdflib import Graph, Namespace\n",
    "from rdflib.plugins import sparql\n",
    "from owlrl import DeductiveClosure\n",
    "\n",
    "# Apply Deductive Closure for OWL reasoning\n",
    "DeductiveClosure(owlrl.OWLRL_Semantics).expand(g)\n",
    "\n",
    "# Define namespaces\n",
    "\n",
    "# Define namespaces\n",
    "ns = Namespace(\"http://www.semanticweb.org/shaima/ontologies/2024/3/untitled-ontology-2#\")\n",
    "onto = Namespace(\"http://www.semanticweb.org/shaima/ontologies/2024/3/untitled-ontology-2#\")\n",
    "\n",
    "def actor_and_director():\n",
    "    # Define the SPARQL query\n",
    "    query = \"\"\"\n",
    "    PREFIX rdf: <http://www.w3.org/1999/02/22-rdf-syntax-ns#>\n",
    "    PREFIX ns: <http://www.semanticweb.org/shaima/ontologies/2024/3/untitled-ontology-2#>\n",
    "    SELECT ?actor_director WHERE {\n",
    "        {?actor_director rdf:type ns:Actor . }\n",
    "            UNION\n",
    "        { ?actor_director rdf:type ns:Director . }\n",
    "        Minus {\n",
    "        ?actor_director rdf:type ns:ActorDirector .\n",
    "        }\n",
    "        \n",
    "    }\n",
    "    \"\"\"\n",
    "    # Execute the query\n",
    "    print(\"Actors and Directors:\")\n",
    "    for row in g.query(query, initNs={\"ns\": ns}):\n",
    "        # Extract the local name from the URIs\n",
    "        my_actor = row.actor_director.split('#')[-1]  # Split the URI by '#' and take the last part\n",
    "        print(f\"Actor_director: {my_actor}\")\n",
    "\n",
    "actor_and_director()"
   ]
  },
  {
   "cell_type": "code",
   "execution_count": 148,
   "metadata": {},
   "outputs": [
    {
     "name": "stdout",
     "output_type": "stream",
     "text": [
      "Directors who are also actors:\n",
      "Actor/Director: Amy_Ryan\n",
      "Actor/Director: Dwayne_Johnson\n",
      "Actor/Director: Gary_Sinise\n",
      "Actor/Director: Kevin_Hart\n",
      "Actor/Director: Rawson_Marshall_Thurber\n",
      "Actor/Director: Robin_Wright\n",
      "Actor/Director: Tom_Hanks\n",
      "Actor/Director: Martin_Scorsese\n"
     ]
    }
   ],
   "source": [
    "def actor_director():\n",
    "    # Define the SPARQL query\n",
    "    query = \"\"\"\n",
    "    PREFIX rdf: <http://www.w3.org/1999/02/22-rdf-syntax-ns#>\n",
    "    PREFIX onto: <http://www.semanticweb.org/shaima/ontologies/2024/3/untitled-ontology-2#>\n",
    "    SELECT ?actor_director WHERE {\n",
    "    ?actor_director rdf:type onto:Actor ;\n",
    "                    rdf:type onto:Director .\n",
    "    }\n",
    "    \"\"\"\n",
    "    # Execute the query\n",
    "    print(\"Directors who are also actors:\")\n",
    "    for row in g.query(query):\n",
    "        # Extract the local name from the URIs\n",
    "        my_actor_director = row.actor_director.split('#')[-1]  # Split the URI by '#' and take the last part\n",
    "        print(f\"Actor/Director: {my_actor_director}\")\n",
    "\n",
    "actor_director()\n"
   ]
  },
  {
   "cell_type": "code",
   "execution_count": 149,
   "metadata": {},
   "outputs": [
    {
     "name": "stdout",
     "output_type": "stream",
     "text": [
      "Movies directed and acted in by the same director:\n",
      "Director: Amy_Ryan, Movie: Central_Intelligence\n",
      "Director: Dwayne_Johnson, Movie: Central_Intelligence\n",
      "Director: Gary_Sinise, Movie: Shutter_Island\n",
      "Director: Kevin_Hart, Movie: Central_Intelligence\n",
      "Director: Rawson_Marshall_Thurber, Movie: Central_Intelligence\n",
      "Director: Robin_Wright, Movie: Shutter_Island\n",
      "Director: Tom_Hanks, Movie: Shutter_Island\n",
      "Director: Martin_Scorsese, Movie: Shutter_Island\n"
     ]
    }
   ],
   "source": [
    "def directors_who_act_and_direct():\n",
    "    query = \"\"\"\n",
    "    SELECT ?movie ?director WHERE {\n",
    "      ?movie a :Movie;\n",
    "              :hasDirector ?director.\n",
    "      ?director a :Director.\n",
    "      ?director a :Actor.\n",
    "    }\n",
    "    \"\"\"\n",
    "    print(\"Movies directed and acted in by the same director:\")\n",
    "    for row in g.query(query):\n",
    "        director_name = row.director.split('#')[-1]\n",
    "        movie_name = row.movie.split('#')[-1]\n",
    "        print(f\"Director: {director_name}, Movie: {movie_name}\")\n",
    "directors_who_act_and_direct()\n"
   ]
  }
 ],
 "metadata": {
  "kernelspec": {
   "display_name": "Python 3",
   "language": "python",
   "name": "python3"
  },
  "language_info": {
   "codemirror_mode": {
    "name": "ipython",
    "version": 3
   },
   "file_extension": ".py",
   "mimetype": "text/x-python",
   "name": "python",
   "nbconvert_exporter": "python",
   "pygments_lexer": "ipython3",
   "version": "3.11.5"
  }
 },
 "nbformat": 4,
 "nbformat_minor": 2
}
