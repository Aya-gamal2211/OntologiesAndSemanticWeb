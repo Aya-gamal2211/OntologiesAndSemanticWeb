{
 "cells": [
  {
   "cell_type": "code",
   "execution_count": 164,
   "metadata": {},
   "outputs": [],
   "source": [
    "from rdflib import Graph, Namespace, RDF\n",
    "from rdflib.plugins import sparql\n",
    "from rdflib.namespace import RDFS\n",
    "from rdflib.extras import infixowl\n",
    "import owlrl"
   ]
  },
  {
   "cell_type": "code",
   "execution_count": 165,
   "metadata": {},
   "outputs": [
    {
     "data": {
      "text/plain": [
       "<Graph identifier=N1ed45ef0af854daea693d02a79fc8e4e (<class 'rdflib.graph.Graph'>)>"
      ]
     },
     "execution_count": 165,
     "metadata": {},
     "output_type": "execute_result"
    }
   ],
   "source": [
    "# Load the ontology from a file\n",
    "g = Graph()\n",
    "g.parse(\"./owl_new.ttl\", format=\"ttl\")"
   ]
  },
  {
   "cell_type": "code",
   "execution_count": 166,
   "metadata": {},
   "outputs": [],
   "source": [
    "# Load custom rules\n",
    "rule_file = \"C:\\\\Users\\\\Shaima\\\\Desktop\\\\OntologiesAndSemanticWeb\\\\rule1.ttl\"\n"
   ]
  },
  {
   "cell_type": "code",
   "execution_count": 172,
   "metadata": {},
   "outputs": [
    {
     "name": "stdout",
     "output_type": "stream",
     "text": [
      "Actors and Directors:\n",
      "Actor_director: Amy_Ryan\n",
      "Actor_director: Rawson_Marshall_Thurber\n",
      "Actor_director: Dwayne_Johnson\n",
      "Actor_director: Kevin_Hart\n"
     ]
    }
   ],
   "source": [
    "from rdflib import Graph, Namespace\n",
    "from rdflib.plugins import sparql\n",
    "from owlrl import DeductiveClosure\n",
    "\n",
    "# Load your RDF data from the TTL file\n",
    "g = Graph()\n",
    "g.parse(\"./owl_new.ttl\", format=\"ttl\")\n",
    "\n",
    "# Apply Deductive Closure for OWL reasoning\n",
    "DeductiveClosure(owlrl.OWLRL_Semantics).expand(g)\n",
    "\n",
    "# Define namespaces\n",
    "onto = Namespace(\"http://www.semanticweb.org/shaima/ontologies/2024/3/untitled-ontology-2#\")\n",
    "\n",
    "def acctor():\n",
    "    # Define the SPARQL query\n",
    "    query = \"\"\"\n",
    "    PREFIX rdf: <http://www.w3.org/1999/02/22-rdf-syntax-ns#>\n",
    "    SELECT ?actor_director WHERE {\n",
    "    ?actor_director rdf:type onto:ActorDirector .\n",
    "    ?actor_director rdf:type onto:Person .\n",
    "        MINUS {\n",
    "        ?actor_director onto:hasActor ?actor .\n",
    "        ?actor_director onto:hasDirector ?director .\n",
    "        FILTER(?actor != ?director)  # Ensure the actor and director are not the same individual\n",
    "    }\n",
    "    }\n",
    "    \"\"\"\n",
    "\n",
    "    # Execute the query\n",
    "    print(\"Actors and Directors:\")\n",
    "    for row in g.query(query, initNs={\"onto\": onto}):\n",
    "        # Extract the local name from the URIs\n",
    "        my_actor = row.actor_director.split('#')[-1]  # Split the URI by '#' and take the last part\n",
    "        print(f\"Actor_director: {my_actor}\")\n",
    "\n",
    "acctor()\n"
   ]
  }
 ],
 "metadata": {
  "kernelspec": {
   "display_name": "Python 3",
   "language": "python",
   "name": "python3"
  },
  "language_info": {
   "codemirror_mode": {
    "name": "ipython",
    "version": 3
   },
   "file_extension": ".py",
   "mimetype": "text/x-python",
   "name": "python",
   "nbconvert_exporter": "python",
   "pygments_lexer": "ipython3",
   "version": "3.11.9"
  }
 },
 "nbformat": 4,
 "nbformat_minor": 2
}
