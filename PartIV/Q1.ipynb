{
 "cells": [
  {
   "cell_type": "code",
   "execution_count": 1,
   "metadata": {},
   "outputs": [],
   "source": [
    "from rdflib.graph import Graph,URIRef,RDF\n",
    "from rdflib.namespace import RDFS\n",
    "from rdflib.tools import rdf2dot\n",
    "from rdflib.plugins.sparql import prepareQuery\n",
    "import owlrl"
   ]
  },
  {
   "cell_type": "markdown",
   "metadata": {},
   "source": [
    "Q1 load the ontology and displays all the Persons \n",
    "(without using queries, without inference)."
   ]
  },
  {
   "cell_type": "code",
   "execution_count": 2,
   "metadata": {},
   "outputs": [
    {
     "name": "stdout",
     "output_type": "stream",
     "text": [
      "http://www.semanticweb.org/shaima/ontologies/2024/3/untitled-ontology-2#Person is a subclass of Person\n",
      "http://www.semanticweb.org/shaima/ontologies/2024/3/untitled-ontology-2#Actor is a subclass of Person\n",
      "  - http://www.semanticweb.org/shaima/ontologies/2024/3/untitled-ontology-2#Amy_Ryan\n",
      "  - http://www.semanticweb.org/shaima/ontologies/2024/3/untitled-ontology-2#Antonella_Attili\n",
      "  - http://www.semanticweb.org/shaima/ontologies/2024/3/untitled-ontology-2#Audrey_Tautou\n",
      "  - http://www.semanticweb.org/shaima/ontologies/2024/3/untitled-ontology-2#Ben_Kingsley\n",
      "  - http://www.semanticweb.org/shaima/ontologies/2024/3/untitled-ontology-2#Bill_Nighy\n",
      "  - http://www.semanticweb.org/shaima/ontologies/2024/3/untitled-ontology-2#David_Carradine\n",
      "  - http://www.semanticweb.org/shaima/ontologies/2024/3/untitled-ontology-2#Domhnall_Gleeson\n",
      "  - http://www.semanticweb.org/shaima/ontologies/2024/3/untitled-ontology-2#Dwayne_Johnson\n",
      "  - http://www.semanticweb.org/shaima/ontologies/2024/3/untitled-ontology-2#Enzo_Cannavale\n",
      "  - http://www.semanticweb.org/shaima/ontologies/2024/3/untitled-ontology-2#Gary_Sinise\n",
      "  - http://www.semanticweb.org/shaima/ontologies/2024/3/untitled-ontology-2#John_Travolta\n",
      "  - http://www.semanticweb.org/shaima/ontologies/2024/3/untitled-ontology-2#Kevin_Hart\n",
      "  - http://www.semanticweb.org/shaima/ontologies/2024/3/untitled-ontology-2#Leila_Hatami\n",
      "  - http://www.semanticweb.org/shaima/ontologies/2024/3/untitled-ontology-2#Leonardo_DiCaprio\n",
      "  - http://www.semanticweb.org/shaima/ontologies/2024/3/untitled-ontology-2#Lucy_Liu\n",
      "  - http://www.semanticweb.org/shaima/ontologies/2024/3/untitled-ontology-2#Mari_Natsuki\n",
      "  - http://www.semanticweb.org/shaima/ontologies/2024/3/untitled-ontology-2#Mark_Ruffalo\n",
      "  - http://www.semanticweb.org/shaima/ontologies/2024/3/untitled-ontology-2#Mathieu_Kassovitz\n",
      "  - http://www.semanticweb.org/shaima/ontologies/2024/3/untitled-ontology-2#Miyu_Irino\n",
      "  - http://www.semanticweb.org/shaima/ontologies/2024/3/untitled-ontology-2#Peyman_Moaadi\n",
      "  - http://www.semanticweb.org/shaima/ontologies/2024/3/untitled-ontology-2#Philippe_Noiret\n",
      "  - http://www.semanticweb.org/shaima/ontologies/2024/3/untitled-ontology-2#Rachel_McAdams\n",
      "  - http://www.semanticweb.org/shaima/ontologies/2024/3/untitled-ontology-2#Rawson_Marshall_Thurber\n",
      "  - http://www.semanticweb.org/shaima/ontologies/2024/3/untitled-ontology-2#Robin_Wright\n",
      "  - http://www.semanticweb.org/shaima/ontologies/2024/3/untitled-ontology-2#Rufus\n",
      "  - http://www.semanticweb.org/shaima/ontologies/2024/3/untitled-ontology-2#Rumi_Hiiragi\n",
      "  - http://www.semanticweb.org/shaima/ontologies/2024/3/untitled-ontology-2#Samuel_L_Jackson\n",
      "  - http://www.semanticweb.org/shaima/ontologies/2024/3/untitled-ontology-2#Sareh_Bayat\n",
      "  - http://www.semanticweb.org/shaima/ontologies/2024/3/untitled-ontology-2#Shahab_Hosseini\n",
      "  - http://www.semanticweb.org/shaima/ontologies/2024/3/untitled-ontology-2#Tom_Hanks\n",
      "  - http://www.semanticweb.org/shaima/ontologies/2024/3/untitled-ontology-2#Uma_Thurman\n",
      "  - http://www.semanticweb.org/shaima/ontologies/2024/3/untitled-ontology-2#Vivica_A_Fox\n",
      "http://www.semanticweb.org/shaima/ontologies/2024/3/untitled-ontology-2#Director is a subclass of Person\n",
      "  - http://www.semanticweb.org/shaima/ontologies/2024/3/untitled-ontology-2#Asghar_Farhadi\n",
      "  - http://www.semanticweb.org/shaima/ontologies/2024/3/untitled-ontology-2#Giuseppe_Tornatore\n",
      "  - http://www.semanticweb.org/shaima/ontologies/2024/3/untitled-ontology-2#Hayao_Miyazaki\n",
      "  - http://www.semanticweb.org/shaima/ontologies/2024/3/untitled-ontology-2#Jean_Pierre_Jeunet\n",
      "  - http://www.semanticweb.org/shaima/ontologies/2024/3/untitled-ontology-2#Martin_Scorsese\n",
      "  - http://www.semanticweb.org/shaima/ontologies/2024/3/untitled-ontology-2#Quentin_Tarantino\n",
      "  - http://www.semanticweb.org/shaima/ontologies/2024/3/untitled-ontology-2#Rawson_Marshall_Thurber\n",
      "  - http://www.semanticweb.org/shaima/ontologies/2024/3/untitled-ontology-2#Richard_Curtis\n",
      "  - http://www.semanticweb.org/shaima/ontologies/2024/3/untitled-ontology-2#Robert_Zemeckis\n",
      "http://www.semanticweb.org/shaima/ontologies/2024/3/untitled-ontology-2#Writer is a subclass of Person\n",
      "  - http://www.semanticweb.org/shaima/ontologies/2024/3/untitled-ontology-2#Asghar_Farhadi\n",
      "  - http://www.semanticweb.org/shaima/ontologies/2024/3/untitled-ontology-2#David_Stassen\n",
      "  - http://www.semanticweb.org/shaima/ontologies/2024/3/untitled-ontology-2#Eric_Roth\n",
      "  - http://www.semanticweb.org/shaima/ontologies/2024/3/untitled-ontology-2#Giuseppe_Tornatore\n",
      "  - http://www.semanticweb.org/shaima/ontologies/2024/3/untitled-ontology-2#Guillaume_Laurant\n",
      "  - http://www.semanticweb.org/shaima/ontologies/2024/3/untitled-ontology-2#Hayao_Miyazaki\n",
      "  - http://www.semanticweb.org/shaima/ontologies/2024/3/untitled-ontology-2#Ike_Barinholtz\n",
      "  - http://www.semanticweb.org/shaima/ontologies/2024/3/untitled-ontology-2#Laeta_Kalogridis\n",
      "  - http://www.semanticweb.org/shaima/ontologies/2024/3/untitled-ontology-2#Quentin_Tarantino\n",
      "  - http://www.semanticweb.org/shaima/ontologies/2024/3/untitled-ontology-2#Rawson_Marshall_Thurber\n",
      "  - http://www.semanticweb.org/shaima/ontologies/2024/3/untitled-ontology-2#Richard_Curtis\n",
      "  - http://www.semanticweb.org/shaima/ontologies/2024/3/untitled-ontology-2#Winston_Groom\n",
      "Number of triples in graph: 531\n"
     ]
    }
   ],
   "source": [
    "# Load the ontology from a file\n",
    "g = Graph()\n",
    "g.parse(\"C:\\\\Users\\\\Shaima\\\\Desktop\\\\OntologiesAndSemanticWeb\\\\ontolgiesPhase1.ttl\", format=\"ttl\")\n",
    "\n",
    "# Define the URI for the Person class\n",
    "PERSON=URIRef(\"http://www.semanticweb.org/shaima/ontologies/2024/3/untitled-ontology-2#Person\")\n",
    "\n",
    "subclasses_of_person = list(g.transitive_subjects(RDFS.subClassOf, PERSON))\n",
    "for subclass in subclasses_of_person:\n",
    "    print(\"%s is a subclass of Person\" % subclass)\n",
    "    instances = [subj for subj, _, _ in g.triples((None, RDF.type, subclass))]\n",
    "    for instance in instances:\n",
    "        print(\"  - %s\" % instance)\n",
    "\n",
    "\n",
    "\n",
    "    # print (len(person))\n",
    "print(\"Number of triples in graph:\", len(g))\n"
   ]
  }
 ],
 "metadata": {
  "kernelspec": {
   "display_name": "Python 3",
   "language": "python",
   "name": "python3"
  },
  "language_info": {
   "codemirror_mode": {
    "name": "ipython",
    "version": 3
   },
   "file_extension": ".py",
   "mimetype": "text/x-python",
   "name": "python",
   "nbconvert_exporter": "python",
   "pygments_lexer": "ipython3",
   "version": "3.11.9"
  }
 },
 "nbformat": 4,
 "nbformat_minor": 2
}
