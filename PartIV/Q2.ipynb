{
 "cells": [
  {
   "cell_type": "markdown",
   "metadata": {},
   "source": [
    "Q2 load the ontology and displays all the Persons (using \n",
    "a query, without inference). Create the used query in text file under the data folder."
   ]
  },
  {
   "cell_type": "code",
   "execution_count": 3,
   "metadata": {},
   "outputs": [
    {
     "name": "stdout",
     "output_type": "stream",
     "text": [
      "Persons\n",
      "Person: Amy_Ryan\n",
      "Person: Antonella_Attili\n",
      "Person: Audrey_Tautou\n",
      "Person: Ben_Kingsley\n",
      "Person: Bill_Nighy\n",
      "Person: David_Carradine\n",
      "Person: Domhnall_Gleeson\n",
      "Person: Dwayne_Johnson\n",
      "Person: Enzo_Cannavale\n",
      "Person: Gary_Sinise\n",
      "Person: John_Travolta\n",
      "Person: Kevin_Hart\n",
      "Person: Leila_Hatami\n",
      "Person: Leonardo_DiCaprio\n",
      "Person: Lucy_Liu\n",
      "Person: Mari_Natsuki\n",
      "Person: Mark_Ruffalo\n",
      "Person: Mathieu_Kassovitz\n",
      "Person: Miyu_Irino\n",
      "Person: Peyman_Moaadi\n",
      "Person: Philippe_Noiret\n",
      "Person: Rachel_McAdams\n",
      "Person: Rawson_Marshall_Thurber\n",
      "Person: Robin_Wright\n",
      "Person: Rufus\n",
      "Person: Rumi_Hiiragi\n",
      "Person: Samuel_L_Jackson\n",
      "Person: Sareh_Bayat\n",
      "Person: Shahab_Hosseini\n",
      "Person: Tom_Hanks\n",
      "Person: Uma_Thurman\n",
      "Person: Vivica_A_Fox\n",
      "Person: Asghar_Farhadi\n",
      "Person: Giuseppe_Tornatore\n",
      "Person: Hayao_Miyazaki\n",
      "Person: Jean_Pierre_Jeunet\n",
      "Person: Martin_Scorsese\n",
      "Person: Quentin_Tarantino\n",
      "Person: Richard_Curtis\n",
      "Person: Robert_Zemeckis\n",
      "Person: David_Stassen\n",
      "Person: Eric_Roth\n",
      "Person: Guillaume_Laurant\n",
      "Person: Ike_Barinholtz\n",
      "Person: Laeta_Kalogridis\n",
      "Person: Winston_Groom\n"
     ]
    }
   ],
   "source": [
    "from rdflib import Graph\n",
    "\n",
    "g = Graph()\n",
    "g.parse(\"C:\\\\Users\\\\Shaima\\\\Desktop\\\\OntologiesAndSemanticWeb\\\\ontolgiesPhase1.ttl\", format=\"ttl\")\n",
    "\n",
    "def person():\n",
    "    # Define the SPARQL query\n",
    "    query = \"\"\"\n",
    "    PREFIX rdf: <http://www.w3.org/1999/02/22-rdf-syntax-ns#>\n",
    "    PREFIX : <http://www.semanticweb.org/shaima/ontologies/2024/3/untitled-ontology-2#>\n",
    "       SELECT DISTINCT ?person WHERE {\n",
    "        ?person rdf:type/rdfs:subClassOf* :Person .\n",
    "    }\n",
    "    \"\"\"\n",
    "\n",
    "    # Execute the query\n",
    "    print(\"Persons\")\n",
    "    for row in g.query(query):\n",
    "        # Extract the local name from the URIs\n",
    "        my_person = row.person.split('#')[-1]  # Split the URI by '#' and take the last part\n",
    "        print(f\"Person: {my_person}\")\n",
    "\n",
    "person()\n"
   ]
  }
 ],
 "metadata": {
  "kernelspec": {
   "display_name": "Python 3",
   "language": "python",
   "name": "python3"
  },
  "language_info": {
   "codemirror_mode": {
    "name": "ipython",
    "version": 3
   },
   "file_extension": ".py",
   "mimetype": "text/x-python",
   "name": "python",
   "nbconvert_exporter": "python",
   "pygments_lexer": "ipython3",
   "version": "3.11.9"
  }
 },
 "nbformat": 4,
 "nbformat_minor": 2
}
